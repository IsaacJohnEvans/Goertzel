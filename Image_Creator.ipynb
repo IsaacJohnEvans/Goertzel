{
  "nbformat": 4,
  "nbformat_minor": 0,
  "metadata": {
    "colab": {
      "name": "Image_Creator",
      "provenance": [],
      "collapsed_sections": [],
      "include_colab_link": true
    },
    "kernelspec": {
      "display_name": "Python 3",
      "name": "python3"
    }
  },
  "cells": [
    {
      "cell_type": "markdown",
      "metadata": {
        "id": "view-in-github",
        "colab_type": "text"
      },
      "source": [
        "<a href=\"https://colab.research.google.com/github/jn19392/Goertzel/blob/master/Image_Creator.ipynb\" target=\"_parent\"><img src=\"https://colab.research.google.com/assets/colab-badge.svg\" alt=\"Open In Colab\"/></a>"
      ]
    },
    {
      "cell_type": "code",
      "metadata": {
        "colab": {
          "base_uri": "https://localhost:8080/"
        },
        "id": "gQRG_YhHd5Ze",
        "outputId": "8a3d5565-26c7-4f51-f939-3bb0fd40d035"
      },
      "source": [
        "from google.colab import drive\n",
        "drive.mount('/content/drive')"
      ],
      "execution_count": null,
      "outputs": [
        {
          "output_type": "stream",
          "text": [
            "Drive already mounted at /content/drive; to attempt to forcibly remount, call drive.mount(\"/content/drive\", force_remount=True).\n"
          ],
          "name": "stdout"
        }
      ]
    },
    {
      "cell_type": "code",
      "metadata": {
        "id": "rL0DftNYjAQx"
      },
      "source": [
        "import pandas as pd\n",
        "import numpy as np\n",
        "import scipy\n",
        "import matplotlib.pyplot as plt\n",
        "from matplotlib import pylab\n",
        "from scipy import stats\n",
        "import seaborn as sns\n",
        "import PIL\n",
        "from PIL import Image"
      ],
      "execution_count": 49,
      "outputs": []
    },
    {
      "cell_type": "code",
      "metadata": {
        "id": "NF0tZJpIOqFe"
      },
      "source": [
        ""
      ],
      "execution_count": null,
      "outputs": []
    },
    {
      "cell_type": "code",
      "metadata": {
        "id": "eecv2OF4fAzP"
      },
      "source": [
        "file_path2 = '/content/drive/MyDrive/Smart_Meters/house_1_apps/Fridge.dat'\n",
        "file_path = '/content/drive/MyDrive/Smart_Meters/house_5_apps/TV.dat'\n",
        "file_path_aggregate = '/content/drive/MyDrive/Smart_Meters/house_5_apps/Agg.dat'"
      ],
      "execution_count": null,
      "outputs": []
    },
    {
      "cell_type": "code",
      "metadata": {
        "id": "79Fr7k9xzh-2"
      },
      "source": [
        "def NILMHeatmapMulti(Agg_file, App_file, App_file2, App, start, stop):\n",
        "\n",
        "  table = pd.read_table(App_file,sep=\"\\s+\",names=['t','PR'])\n",
        "  table2 = pd.read_table(App_file2,sep=\"\\s+\",names=['t','PR'])\n",
        "  table_agg = pd.read_table(Agg_file ,sep=\"\\s+\",names=['t','PR']) # Read Files into tables\n",
        "  \n",
        "  data = table.to_numpy()\n",
        "  data2 = table2.to_numpy()\n",
        "  data_agg = table_agg.to_numpy() # Change tables to NP arrays\n",
        "\n",
        "  data[:,0] = data[:,0] - data_agg[:,0].min()\n",
        "  data2[:,0] = data2[:,0] - data_agg[:,0].min()\n",
        "  data_agg[:,0] = data_agg[:,0] - data_agg[:,0].min() # Standardising so all values are with respect to min value\n",
        "\n",
        "  index = data[:,1]  > 10\n",
        "  index2 = data2[:,1] > 10\n",
        "  data = data[index]\n",
        "  data2 = data2[index2]\n",
        "\n",
        "  window_start = start * 86400\n",
        "  window_stop = stop * 86400\n",
        "  ind_agg = (data_agg[:,0] >= (window_start)) & (data_agg[:,0] < (window_stop)) \n",
        "  ind = (data[:,0] >= (window_start)) & (data[:,0] < (window_stop)) \n",
        "  ind2 = (data2[:,0] >= (window_start)) & (data2[:,0] < (window_stop)) # Obtaining values for specified windows \n",
        "\n",
        "  data_agg_test = data_agg[ind_agg] \n",
        "  data_test = data[ind]\n",
        "  data_test2 = data2[ind2]\n",
        "\n",
        "  \n",
        "  if len(data_agg_test) < 1:\n",
        "    print('No aggregated data ')\n",
        "  else:\n",
        "\n",
        "    m = stop-start\n",
        "\n",
        "    for j in range(m):\n",
        "      day_data = np.zeros(17280)\n",
        "      day_data2 = np.zeros(17280)\n",
        "      day_data_none = np.zeros(17280)\n",
        "      day_data_agg = np.zeros(17280)\n",
        "      counter = 0\n",
        "      counter2 = 0\n",
        "      counter_none = 0\n",
        "      for i in range(17280):\n",
        "        idx_agg = (data_agg_test[:,0] >= (window_start) + (j*86400) + (i*5)) & (data_agg_test[:,0] < (window_start) + (j*86400)+((i+1)*5))\n",
        "        idx = (data_test[:,0] >= (window_start) +  (j*86400)+(i*5)) & (data_test[:,0] < (window_start) + (j*86400)+((i+1)*5))\n",
        "        idx2 = (data_test2[:,0] >= (window_start) +  (j*86400)+(i*5)) & (data_test2[:,0] < (window_start) + (j*86400)+((i+1)*5))\n",
        "        \n",
        "\n",
        "        day_data_agg[i] = np.mean(data_agg_test[idx_agg,1])\n",
        "        \n",
        "        if np.isnan(np.mean(data_test[idx,1])) == True:\n",
        "          day_data[i] = np.mean(data_agg_test[idx_agg,1])\n",
        "          counter += 1\n",
        "\n",
        "        else:\n",
        "          day_data[i] = np.mean(data_agg_test[idx_agg,1]) - np.mean(data_test[idx,1])\n",
        "\n",
        "        if np.isnan(np.mean(data_test2[idx2,1])) == True:\n",
        "          day_data2[i] = np.mean(data_agg_test[idx_agg,1])\n",
        "          counter2 += 1\n",
        "\n",
        "        else:\n",
        "          day_data2[i] = np.mean(data_agg_test[idx_agg,1]) - np.mean(data_test2[idx2,1])\n",
        "\n",
        "        if (np.isnan(np.mean(data_test[idx,1])) == True) & (np.isnan(np.mean(data_test2[idx2,1])) == True):\n",
        "          day_data_none[i]  = np.mean(data_agg_test[idx_agg,1])\n",
        "          counter_none += 1\n",
        "\n",
        "        else:\n",
        "          day_data_none[i] = np.mean(data_agg_test[idx_agg,1]) - np.mean(data_test[idx,1]) - np.mean(data_test2[idx2,1])\n",
        "  \n",
        "\n",
        "\n",
        "\n",
        "      heatmap = np.transpose(day_data.reshape(24,720))\n",
        "      heatmap2 = np.transpose(day_data2.reshape(24,720))\n",
        "      heatmap_none = np.transpose(day_data_none.reshape(24,720))\n",
        "      heatmap_agg = np.transpose(day_data_agg.reshape(24,720))\n",
        "\n",
        "      i1 = np.isnan(heatmap) == False\n",
        "      i2 = np.isnan(heatmap2) == False\n",
        "      i_none = np.isnan(heatmap_none) == False\n",
        "      i_agg = np.isnan(heatmap_agg) == False\n",
        "\n",
        "\n",
        "      heatmap = (heatmap - np.mean(heatmap[i1]))/(np.std(heatmap[i1]))\n",
        "      heatmap2 = (heatmap2 - np.mean(heatmap2[i2]))/(np.std(heatmap2[i2]))\n",
        "      heatmap_none = (heatmap_none - np.mean(heatmap_none[i_none]))/(np.std(heatmap_none[i_none]))\n",
        "      heatmap_agg = (heatmap_agg - np.mean(heatmap_agg[i_agg]))/(np.std(heatmap_agg[i_agg]))\n",
        "      # print(heatmap_agg[i].max())\n",
        "      # print(heatmap[i].max())\n",
        "\n",
        "      if counter == 17280 & counter2 == 17280:\n",
        "        plt.figure\n",
        "        plt.title('Aggregated data for day ' + str(start + j + 1))\n",
        "        plt.xlabel('Hours')\n",
        "        plt.ylabel('Seconds')\n",
        "        plt.axis('on')\n",
        "        sns.heatmap(heatmap_agg,vmin=-5,vmax=10,cmap='RdYlBu_r', cbar = True)\n",
        "        plt.savefig('/content/drive/MyDrive/Smart_Meters/Final_sets/Multiclass_test/Class_None/5Day'+ str(start + j + 1))\n",
        "        #plt.show()\n",
        "        \n",
        "      elif counter == 17280:\n",
        "        plt.figure\n",
        "        plt.title('Aggregated data for day ' + str(start + j + 1))\n",
        "        plt.xlabel('Hours')\n",
        "        plt.ylabel('Seconds')\n",
        "        plt.axis('on')\n",
        "        sns.heatmap(heatmap_agg,vmin=-5,vmax=10,cmap='RdYlBu_r', cbar = True)\n",
        "        plt.savefig('/content/drive/MyDrive/Smart_Meters/Final_sets/Multiclass_test/Class_No_1/5Day'+ str(start + j + 1))\n",
        "        #plt.show()\n",
        "\n",
        "        plt.figure\n",
        "        plt.title('Aggregated data for day ' + str(start + j + 1))\n",
        "        plt.xlabel('Hours')\n",
        "        plt.ylabel('Seconds')\n",
        "        plt.axis('on')\n",
        "        sns.heatmap(heatmap2,vmin=-5,vmax=10,cmap='RdYlBu_r', cbar = True)\n",
        "        plt.savefig('/content/drive/MyDrive/Smart_Meters/Final_sets/Multiclass_test/Class_None/5Day'+ str(start + j + 1))\n",
        "        #plt.show()\n",
        "\n",
        "\n",
        "      elif counter2 == 17280:\n",
        "        plt.figure\n",
        "        plt.title('Aggregated data for day ' + str(start + j + 1))\n",
        "        plt.xlabel('Hours')\n",
        "        plt.ylabel('Seconds')\n",
        "        plt.axis('on')\n",
        "        sns.heatmap(heatmap_agg,vmin=-5,vmax=10,cmap='RdYlBu_r', cbar = True)\n",
        "        plt.savefig('/content/drive/MyDrive/Smart_Meters/Final_sets/Multiclass_test/Class_No_2/5Day'+ str(start + j + 1))\n",
        "        #plt.show()\n",
        "\n",
        "        plt.figure\n",
        "        plt.title('Aggregated data for day ' + str(start + j + 1))\n",
        "        plt.xlabel('Hours')\n",
        "        plt.ylabel('Seconds')\n",
        "        plt.axis('on')\n",
        "        sns.heatmap(heatmap,vmin=-5,vmax=10,cmap='RdYlBu_r', cbar = True)\n",
        "        plt.savefig('/content/drive/MyDrive/Smart_Meters/Final_sets/Multiclass_test/Class_None/5Day'+ str(start + j + 1))\n",
        "        #plt.show()\n",
        "\n",
        "      else:\n",
        "        plt.figure\n",
        "        #plt.title('Aggregated data for day ' + str(start + j + 1))\n",
        "        #plt.xlabel('Hours')\n",
        "        #plt.ylabel('Seconds')\n",
        "        plt.axis('on')\n",
        "        sns.heatmap(heatmap_agg,vmin=-5,vmax=10,cmap='RdYlBu_r', cbar = True)\n",
        "        plt.savefig('/content/drive/MyDrive/Smart_Meters/Final_sets/Multiclass_test/Class_Agg/5Day'+ str(start + j + 1))\n",
        "        #plt.show()\n",
        "\n",
        "        plt.figure\n",
        "        plt.title('Aggregated data for day ' + str(start + j + 1))\n",
        "        plt.xlabel('Hours')\n",
        "        plt.ylabel('Seconds')\n",
        "        plt.axis('on')\n",
        "        sns.heatmap(heatmap,vmin=-5,vmax=10,cmap='RdYlBu_r', cbar = True)\n",
        "        plt.savefig('/content/drive/MyDrive/Smart_Meters/Final_sets/Multiclass_test/Class_No_2/5Day'+ str(start + j + 1))\n",
        "        #plt.show()\n",
        "\n",
        "        plt.figure\n",
        "        plt.title('Aggregated data for day ' + str(start + j + 1))\n",
        "        plt.xlabel('Hours')\n",
        "        plt.ylabel('Seconds')\n",
        "        plt.axis('on')\n",
        "        sns.heatmap(heatmap2,vmin=-5,vmax=10,cmap='RdYlBu_r', cbar = True)\n",
        "        plt.savefig('/content/drive/MyDrive/Smart_Meters/Final_sets/Multiclass_test/Class_No_1/5Day'+ str(start + j + 1))\n",
        "        #plt.show()\n",
        "\n",
        "        plt.figure\n",
        "        plt.title('Aggregated data for day ' + str(start + j + 1))\n",
        "        plt.xlabel('Hours')\n",
        "        plt.ylabel('Seconds')\n",
        "        plt.axis('on')\n",
        "        sns.heatmap(heatmap_none,vmin=-5,vmax=10,cmap='RdYlBu_r', cbar = True)\n",
        "        plt.savefig('/content/drive/MyDrive/Smart_Meters/Final_sets/Multiclass_test/Class_None/5Day'+ str(start + j + 1))\n",
        "        #plt.show()"
      ],
      "execution_count": 40,
      "outputs": []
    },
    {
      "cell_type": "code",
      "metadata": {
        "colab": {
          "base_uri": "https://localhost:8080/",
          "height": 331
        },
        "id": "g5h3QYGwDJY7",
        "outputId": "3b61ad96-4a86-4135-d612-a9e403b23b15"
      },
      "source": [
        "s = 0\n",
        "e = 10\n",
        "\n",
        "for i in range(1):\n",
        "  NILMHeatmapMulti(file_path_aggregate, file_path,file_path2, '', s,e)\n",
        "  s += 10\n",
        "  e += 10"
      ],
      "execution_count": 46,
      "outputs": [
        {
          "output_type": "stream",
          "text": [
            "/usr/local/lib/python3.7/dist-packages/numpy/core/fromnumeric.py:3373: RuntimeWarning: Mean of empty slice.\n",
            "  out=out, **kwargs)\n",
            "/usr/local/lib/python3.7/dist-packages/numpy/core/_methods.py:170: RuntimeWarning: invalid value encountered in double_scalars\n",
            "  ret = ret.dtype.type(ret / rcount)\n"
          ],
          "name": "stderr"
        },
        {
          "output_type": "display_data",
          "data": {
            "image/png": "[encoded data removed]",
            "text/plain": [
              "<Figure size 432x288 with 21 Axes>"
            ]
          },
          "metadata": {
            "tags": [],
            "needs_background": "light"
          }
        }
      ]
    },
    {
      "cell_type": "code",
      "metadata": {
        "id": "NIsX3wY09NZR",
        "colab": {
          "base_uri": "https://localhost:8080/"
        },
        "outputId": "5599f269-1260-432d-e5fd-405d192a22ad"
      },
      "source": [
        "NILMHeatmapMulti(file_path_aggregate, file_path, file_path2, 'dishwasher', 368,370)"
      ],
      "execution_count": null,
      "outputs": [
        {
          "output_type": "stream",
          "text": [
            "No aggregated data \n"
          ],
          "name": "stdout"
        }
      ]
    },
    {
      "cell_type": "code",
      "metadata": {
        "id": "z4VZOOqch-WZ"
      },
      "source": [
        "  table1 = pd.read_table(file_path,sep=\"\\s+\",names=['t','PR'])\n",
        "  table_agg1 = pd.read_table(file_path_aggregate ,sep=\"\\s+\",names=['t','PR'])\n",
        "  \n",
        "  data1 = table1.to_numpy()\n",
        "  data_agg1 = table_agg1.to_numpy()\n",
        "\n",
        "  data1[:,0] = data1[:,0] - data_agg1[:,0].min()\n",
        "  data_agg1[:,0] = data_agg1[:,0] - data_agg1[:,0].min()"
      ],
      "execution_count": null,
      "outputs": []
    },
    {
      "cell_type": "code",
      "metadata": {
        "id": "tPORyZAdiwwX",
        "colab": {
          "base_uri": "https://localhost:8080/"
        },
        "outputId": "e169b812-5205-4535-c92e-e90db3b9aaf4"
      },
      "source": [
        "  Agg_days = (data_agg1[-1,0] - data_agg1[0,0]) / (60*60*24)     #Total Num of days for agg\n",
        "  App_days = (data1[-1,0] - data1[0,0]) / (60 * 60 * 24)     #Total Num of days for app\n",
        "  Day_start = (data1[0,0] - data_agg1[0,0]) / (60 * 60 *24)     #Day that appliance data starts\n",
        "  Total_days = Agg_days - Day_start # Days that are tehrefore available\n",
        "  Train_days = Total_days * 0.8 # No of Training Days\n",
        "  Val_days = Total_days * 0.2 # No of Validation Days\n",
        "  print(Agg_days)\n",
        "  print(App_days)\n",
        "  print(Day_start)\n",
        "  print(Total_days)\n",
        "  print(Train_days)\n",
        "  print(Val_days)"
      ],
      "execution_count": 47,
      "outputs": [
        {
          "output_type": "stream",
          "text": [
            "137.06152777777777\n",
            "137.06417824074074\n",
            "-16250.683148148148\n",
            "16387.744675925926\n",
            "13110.19574074074\n",
            "3277.548935185185\n"
          ],
          "name": "stdout"
        }
      ]
    },
    {
      "cell_type": "code",
      "metadata": {
        "id": "mU0hedL9tA-v",
        "colab": {
          "base_uri": "https://localhost:8080/",
          "height": 162
        },
        "outputId": "ec6f8fe1-d190-46cf-ed24-f3ec2a3f926a"
      },
      "source": [
        "NILMHeatmap(file_path_aggregate, file_path, 'TV', 0,125)"
      ],
      "execution_count": 48,
      "outputs": [
        {
          "output_type": "error",
          "ename": "NameError",
          "evalue": "ignored",
          "traceback": [
            "\u001b[0;31m---------------------------------------------------------------------------\u001b[0m",
            "\u001b[0;31mNameError\u001b[0m                                 Traceback (most recent call last)",
            "\u001b[0;32m<ipython-input-48-23be0171605d>\u001b[0m in \u001b[0;36m<module>\u001b[0;34m()\u001b[0m\n\u001b[0;32m----> 1\u001b[0;31m \u001b[0mNILMHeatmap\u001b[0m\u001b[0;34m(\u001b[0m\u001b[0mfile_path_aggregate\u001b[0m\u001b[0;34m,\u001b[0m \u001b[0mfile_path\u001b[0m\u001b[0;34m,\u001b[0m \u001b[0;34m'TV'\u001b[0m\u001b[0;34m,\u001b[0m \u001b[0;36m0\u001b[0m\u001b[0;34m,\u001b[0m\u001b[0;36m125\u001b[0m\u001b[0;34m)\u001b[0m\u001b[0;34m\u001b[0m\u001b[0;34m\u001b[0m\u001b[0m\n\u001b[0m",
            "\u001b[0;31mNameError\u001b[0m: name 'NILMHeatmap' is not defined"
          ]
        }
      ]
    },
    {
      "cell_type": "code",
      "metadata": {
        "id": "__G9WHY3qw61"
      },
      "source": [
        "def NILMHeatmap(Agg_file, App_file, App, start, stop):\n",
        "\n",
        "  table = pd.read_table(App_file,sep=\"\\s+\",names=['t','PR'])\n",
        "  table_agg = pd.read_table(Agg_file ,sep=\"\\s+\",names=['t','PR'])\n",
        "  \n",
        "  data = table.to_numpy()\n",
        "  data_agg = table_agg.to_numpy()\n",
        "\n",
        "  data[:,0] = data[:,0] - data_agg[:,0].min()\n",
        "  data_agg[:,0] = data_agg[:,0] - data_agg[:,0].min()\n",
        "\n",
        "  index = data[:,1]  > 10\n",
        "  data = data[index]\n",
        "  # print(data[:,1])\n",
        "\n",
        "  # data[:,1] = stats.zscore(data[:,1])\n",
        "  # data_agg[:,1] = stats.zscore(data_agg[:,1])\n",
        "\n",
        "  # print(data_agg[:,1].max())\n",
        "  # print(data[:,1].max())\n",
        "\n",
        "\n",
        "  # z_score = stats.zscore(data[:,1])\n",
        "  # ind = z_score < 4\n",
        "  # data = data[ind]\n",
        "\n",
        "  # z_score_agg = stats.zscore(data_agg[:,1])\n",
        "  # ind_agg = z_score_agg < 4\n",
        "  # data_agg = data_agg[ind_agg]\n",
        "\n",
        "  window_start = start * 86400\n",
        "  window_stop = stop * 86400\n",
        "  ind_agg = (data_agg[:,0] >= (window_start)) & (data_agg[:,0] < (window_stop)) \n",
        "  ind = (data[:,0] >= (window_start)) & (data[:,0] < (window_stop)) \n",
        "\n",
        "  data_agg_test = data_agg[ind_agg] \n",
        "  data_test = data[ind]\n",
        "\n",
        "  \n",
        "  if len(data_agg_test) < 1:\n",
        "    print('No aggregated data ')\n",
        "  else:\n",
        "\n",
        "  # m = round((data_agg_test[:,0].max() - data_agg_test[:,0].min())/86400)\n",
        " \n",
        "  # print(data_agg_test[:,0].max())\n",
        "  # print(data_agg_test[:,0].min())\n",
        "    m = stop-start\n",
        "\n",
        "    for j in range(m):\n",
        "      day_data = np.zeros(17280)\n",
        "      day_data_agg = np.zeros(17280)\n",
        "      counter = 0\n",
        "      for i in range(17280):\n",
        "        idx_agg = (data_agg_test[:,0] >= (window_start) + (j*86400) + (i*5)) & (data_agg_test[:,0] < (window_start) + (j*86400)+((i+1)*5))\n",
        "        idx = (data_test[:,0] >= (window_start) +  (j*86400)+(i*5)) & (data_test[:,0] < (window_start) + (j*86400)+((i+1)*5))\n",
        "        \n",
        "\n",
        "        day_data_agg[i] = np.mean(data_agg_test[idx_agg,1])\n",
        "        \n",
        "        if np.isnan(np.mean(data_test[idx,1])) == True:\n",
        "          day_data[i] = np.mean(data_agg_test[idx_agg,1])\n",
        "          counter += 1\n",
        "\n",
        "        else:\n",
        "          day_data[i] = np.mean(data_agg_test[idx_agg,1]) - np.mean(data_test[idx,1])\n",
        "\n",
        "\n",
        "      heatmap = np.transpose(day_data.reshape(24,720))\n",
        "      heatmap_agg = np.transpose(day_data_agg.reshape(24,720))\n",
        "\n",
        "      i = np.isnan(heatmap) == False\n",
        "      i_agg = np.isnan(heatmap_agg) == False\n",
        "\n",
        "\n",
        "      heatmap = (heatmap - np.mean(heatmap[i]))/(np.std(heatmap[i]))\n",
        "      heatmap_agg = (heatmap_agg - np.mean(heatmap_agg[i_agg]))/(np.std(heatmap_agg[i_agg]))\n",
        "      # print(heatmap_agg[i].max())\n",
        "      # print(heatmap[i].max())\n",
        "\n",
        "      if counter == 17280:\n",
        "        \n",
        "        plt.figure\n",
        "        plt.title('Aggregated data for day ' + str(start + j + 1))\n",
        "        plt.xlabel('Hours')\n",
        "        plt.ylabel('Seconds')\n",
        "        plt.axis('off')\n",
        "        sns.heatmap(heatmap_agg,vmin=-5,vmax=10,cmap='RdYlBu_r', cbar = False)\n",
        "        plt.savefig('/content/drive/MyDrive/Smart_Meters/Final_sets/TV_test/Class_No_App-TV/5Day'+ str(start + j + 1))\n",
        "        #plt.show()\n",
        "\n",
        "      else:\n",
        "\n",
        "        plt.figure\n",
        "        plt.title('Aggregated data for day ' + str(start + j + 1))\n",
        "\n",
        "        plt.axis('off')\n",
        "        sns.heatmap(heatmap_agg,vmin=-5,vmax=10,cmap='RdYlBu_r',cbar= False)\n",
        "        plt.xlabel('Hours')\n",
        "        plt.ylabel('Seconds')\n",
        "        plt.savefig('/content/drive/MyDrive/Smart_Meters/Final_sets/TV_test/Class_App-TV/5Day'+ str(start + j + 1))        \n",
        "        #plt.show()\n",
        "\n",
        "        plt.figure\n",
        "        plt.title('Aggregated data for day ' + str(start + j + 1) + ' minus the ' + App)\n",
        "\n",
        "       # plt.axis('off')\n",
        "        sns.heatmap(heatmap,vmin=-5,vmax=10,cmap='RdYlBu_r', cbar=False)\n",
        "        plt.xlabel(\"Hours\")\n",
        "        plt.ylabel(\"Seconds\")\n",
        "        plt.savefig('/content/drive/MyDrive/Smart_Meters/Final_sets/TV_test/Class_No_App-TV/5Day'+ str(start + j + 1))\n",
        "        #plt.show()"
      ],
      "execution_count": null,
      "outputs": []
    },
    {
      "cell_type": "code",
      "metadata": {
        "id": "giGXBmjMiegC",
        "colab": {
          "base_uri": "https://localhost:8080/",
          "height": 229
        },
        "outputId": "559ff166-904d-4179-c9ad-909b57e29ebb"
      },
      "source": [
        "s = 100\n",
        "e = 110\n",
        "\n",
        "for i in range(3):\n",
        "  NILMHeatmap(file_path_aggregate, file_path, 'TV', s,e)\n",
        "  s += 10\n",
        "  e += 10"
      ],
      "execution_count": 45,
      "outputs": [
        {
          "output_type": "error",
          "ename": "NameError",
          "evalue": "ignored",
          "traceback": [
            "\u001b[0;31m---------------------------------------------------------------------------\u001b[0m",
            "\u001b[0;31mNameError\u001b[0m                                 Traceback (most recent call last)",
            "\u001b[0;32m<ipython-input-45-6c03d3daa359>\u001b[0m in \u001b[0;36m<module>\u001b[0;34m()\u001b[0m\n\u001b[1;32m      3\u001b[0m \u001b[0;34m\u001b[0m\u001b[0m\n\u001b[1;32m      4\u001b[0m \u001b[0;32mfor\u001b[0m \u001b[0mi\u001b[0m \u001b[0;32min\u001b[0m \u001b[0mrange\u001b[0m\u001b[0;34m(\u001b[0m\u001b[0;36m3\u001b[0m\u001b[0;34m)\u001b[0m\u001b[0;34m:\u001b[0m\u001b[0;34m\u001b[0m\u001b[0;34m\u001b[0m\u001b[0m\n\u001b[0;32m----> 5\u001b[0;31m   \u001b[0mNILMHeatmap\u001b[0m\u001b[0;34m(\u001b[0m\u001b[0mfile_path_aggregate\u001b[0m\u001b[0;34m,\u001b[0m \u001b[0mfile_path\u001b[0m\u001b[0;34m,\u001b[0m \u001b[0;34m'TV'\u001b[0m\u001b[0;34m,\u001b[0m \u001b[0ms\u001b[0m\u001b[0;34m,\u001b[0m\u001b[0me\u001b[0m\u001b[0;34m)\u001b[0m\u001b[0;34m\u001b[0m\u001b[0;34m\u001b[0m\u001b[0m\n\u001b[0m\u001b[1;32m      6\u001b[0m   \u001b[0ms\u001b[0m \u001b[0;34m+=\u001b[0m \u001b[0;36m10\u001b[0m\u001b[0;34m\u001b[0m\u001b[0;34m\u001b[0m\u001b[0m\n\u001b[1;32m      7\u001b[0m   \u001b[0me\u001b[0m \u001b[0;34m+=\u001b[0m \u001b[0;36m10\u001b[0m\u001b[0;34m\u001b[0m\u001b[0;34m\u001b[0m\u001b[0m\n",
            "\u001b[0;31mNameError\u001b[0m: name 'NILMHeatmap' is not defined"
          ]
        }
      ]
    },
    {
      "cell_type": "code",
      "metadata": {
        "id": "1WF8vJPWvOnv"
      },
      "source": [
        "a = np.random.rand(10)*10\n",
        "print(a)\n",
        "a = (a - np.mean(a))/np.std(a)\n",
        "\n",
        "print(a)"
      ],
      "execution_count": null,
      "outputs": []
    },
    {
      "cell_type": "code",
      "metadata": {
        "id": "ZjRLH97gDfET"
      },
      "source": [
        "TimeSeries(file_path_aggregate, file_path, 'Refrigerator', 124,125)"
      ],
      "execution_count": null,
      "outputs": []
    },
    {
      "cell_type": "code",
      "metadata": {
        "id": "4jv_WLZUT3iF"
      },
      "source": [
        ""
      ],
      "execution_count": null,
      "outputs": []
    },
    {
      "cell_type": "markdown",
      "metadata": {
        "id": "xGUVM1_gBh4J"
      },
      "source": [
        "def TimeSeries(Agg_file, App_file, App, start, stop):\n",
        "  table = pd.read_table(App_file,sep=\"\\s+\",names=['t','PR'])\n",
        "  table_agg = pd.read_table(Agg_file ,sep=\"\\s+\",names=['t','PR'])\n",
        "  \n",
        "  data = table.to_numpy()\n",
        "  data_agg = table_agg.to_numpy()\n",
        "\n",
        "  data[:,0] = data[:,0] - data_agg[:,0].min()\n",
        "  data_agg[:,0] = data_agg[:,0] - data_agg[:,0].min()\n",
        "\n",
        "  window_start = start * 86400\n",
        "  window_stop = stop * 86400\n",
        "  ind_agg = (data_agg[:,0] >= (window_start)) & (data_agg[:,0] < (window_stop)) \n",
        "  ind = (data[:,0] >= (window_start)) & (data[:,0] < (window_stop)) \n",
        "\n",
        "  data_agg_test = data_agg[ind_agg] \n",
        "  data_test = data[ind]\n",
        "\n",
        "\n",
        "  if len(data_agg_test) < 1:\n",
        "    print('No aggregated data ')\n",
        "  else:\n",
        "    m = stop -start\n",
        "    for j in range(m):\n",
        "      ind_agg = (data_agg_test[:,0] >= (window_start) + (j*86400)) & (data_agg_test[:,0] < (window_start) + ((j+1)*86400))\n",
        "      ind = (data_test[:,0] >= (window_start) + (j*86400)) & (data_test[:,0] < (window_start) + ((j+1)*86400))\n",
        "      \n",
        "      val_agg = data_agg_test[ind_agg]\n",
        "      val_agg[:,0] = val_agg[:,0] - val_agg[0,0]\n",
        "      val = data_test[ind]\n",
        "      val[:,0] = val[:,0] - val[0,0]\n",
        "      plt.figure\n",
        "      plt.title('Time series representation of UK Dale dataset')\n",
        "      plt.plot(val_agg[:,0],val_agg[:,1],label = 'Aggregated Data')\n",
        "      plt.plot(val[:,0],val[:,1], label = App + ' Data')\n",
        "      plt.xlabel('Time (s)')\n",
        "      plt.ylabel('Power reading (W)')\n",
        "      plt.ylim(0,2000)\n",
        "      plt.legend()\n",
        "      plt.savefig('/content/drive/MyDrive/Smart_Meters/Report Image/TS' + App + str(start + j + 1) + '.pdf')\n",
        "      plt.show()\n",
        "      print(val_agg[-1,0])\n"
      ]
    },
    {
      "cell_type": "code",
      "metadata": {
        "id": "o9E71-IxrOrt"
      },
      "source": [
        "table = pd.read_table(file_path,sep=\"\\s+\",names=['t','PR'])\n",
        "table_agg = pd.read_table(file_path_aggregate ,sep=\"\\s+\",names=['t','PR'])\n",
        "  \n",
        "data = table.to_numpy()\n",
        "data_agg = table_agg.to_numpy()\n",
        "\n",
        "data[:,0] = data[:,0] - data_agg[:,0].min()\n",
        "data_agg[:,0] = data_agg[:,0] - data_agg[:,0].min()\n",
        "\n",
        "data_agg[:,0].min()-data[:,0].min() / -86400\n"
      ],
      "execution_count": null,
      "outputs": []
    },
    {
      "cell_type": "code",
      "metadata": {
        "id": "tf1Kpb2ZTxAk"
      },
      "source": [
        "def HeatmapAgg(start, stop):\n",
        "  window_start = start *86400                                                          # Frame start \n",
        "  window_stop = stop * 86400   # Frame end\n",
        "  \n",
        "  ind_agg = (data_agg[:,0] >= (window_start)) & (data_agg[:,0] < (window_stop)) \n",
        "  data_agg_test = data_agg[ind_agg]  \n",
        "  # print(data_agg_test[0])                                            # Separating data into smaller pieces\n",
        "\n",
        "  m = round((data_agg_test[:,0].max() - data_agg_test[:,0].min())/86400)\n",
        "\n",
        "  #day_data = np.zeros(17280)\n",
        "\n",
        "  for j in range(m):\n",
        "    day_data = np.zeros(17280)\n",
        "  \n",
        "    for i in range(17280):\n",
        "      id = (data_agg_test[:,0] >= (window_start) + (j*86400)+(i*5)) & (data_agg_test[:,0] < (window_start) + (j*86400)+((i+1)*5))\n",
        "      day_data[i] = np.mean(data_agg_test[id,1])\n",
        "\n",
        "    heatmap = np.transpose(day_data.reshape(24,720))\n",
        "    # print(heatmap)\n",
        "    plt.figure\n",
        "    plt.title('Aggregated data for day ' + str(start + j + 1))\n",
        "    plt.xlabel('Hours')\n",
        "    plt.ylabel('Seconds')\n",
        "    sns.heatmap(heatmap,cmap = 'Greys_r')\n",
        "    plt.show()"
      ],
      "execution_count": null,
      "outputs": []
    },
    {
      "cell_type": "code",
      "metadata": {
        "id": "3TmvjxCZGTJT"
      },
      "source": [
        "table_agg1 = pd.read_table(file_path_aggregate ,sep=\"\\s+\",names=['t','PR'])\n",
        "\n",
        "data1 = table1.to_numpy()\n",
        "data_agg1 = table_agg1.to_numpy()\n",
        "\n",
        "data1[:,0] = data1[:,0] - data_agg1[:,0].min()\n",
        "data_agg1[:,0] = data_agg1[:,0] - data_agg1[:,0].min()"
      ],
      "execution_count": 42,
      "outputs": []
    },
    {
      "cell_type": "code",
      "metadata": {
        "id": "jea0wCpvJYSc"
      },
      "source": [
        "def Heatmap_noappliance(start, stop):\n",
        "\n",
        "  window_start = start * 86400\n",
        "  window_stop = stop * 86400\n",
        "  ind_agg = (data_agg[:,0] >= (window_start)) & (data_agg[:,0] < (window_stop)) \n",
        "  ind = (data[:,0] >= (window_start)) & (data[:,0] < (window_stop)) \n",
        "\n",
        "  data_agg_test = data_agg[ind_agg]\n",
        "  #print(data_agg_test[0])\n",
        " \n",
        "  data_test = data[ind]\n",
        "  #print(data_test[0])\n",
        "\n",
        "\n",
        "  m = round((data_agg_test[:,0].max() - data_agg_test[:,0].min())/86400)\n",
        "\n",
        "  #day_data = np.zeros(17280)\n",
        "\n",
        "  for j in range(m):\n",
        "    day_data = np.zeros(17280)\n",
        "\n",
        "  \n",
        "    for i in range(17280):\n",
        "      idx_agg = (data_agg_test[:,0] >= (window_start) + (j*86400) + (i*5)) & (data_agg_test[:,0] < (window_start) + (j*86400)+((i+1)*5))\n",
        "      idx = (data_test[:,0] >= (window_start) +  (j*86400)+(i*5)) & (data_test[:,0] < (window_start) + (j*86400)+((i+1)*5))\n",
        "\n",
        "      if np.isnan(np.mean(data_test[idx,1])) == True:\n",
        "         day_data[i] = np.mean(data_agg_test[idx_agg,1])\n",
        "\n",
        "     #    print(data_agg_test[idx_agg,1])\n",
        "      else:\n",
        "        day_data[i] = np.mean(data_agg_test[idx_agg,1]) - np.mean(data_test[idx,1])\n",
        "        # print(np.mean(data_test[idx,1]))\n",
        "\n",
        "\n",
        "\n",
        "\n",
        "    heatmap = np.transpose(day_data.reshape(24,720))\n",
        "    # print(heatmap)\n",
        "\n",
        "    plt.figure\n",
        "    plt.title('Aggregated data for day ' + str(start + j + 1) + ' minus the ' + Appliance )\n",
        "    plt.xlabel('Hours')\n",
        "    plt.ylabel('Seconds')\n",
        "    sns.heatmap(heatmap,cmap = 'Greys_r')\n",
        "    plt.show()\n"
      ],
      "execution_count": null,
      "outputs": []
    },
    {
      "cell_type": "code",
      "metadata": {
        "id": "Al1d-LaTLQOz",
        "colab": {
          "base_uri": "https://localhost:8080/",
          "height": 178
        },
        "outputId": "d1448b3f-f1bb-4919-b72b-128d3de27275"
      },
      "source": [
        "HeatmapAgg(35,36)\n",
        "Heatmap_noappliance(40,41)"
      ],
      "execution_count": 43,
      "outputs": [
        {
          "output_type": "error",
          "ename": "NameError",
          "evalue": "ignored",
          "traceback": [
            "\u001b[0;31m---------------------------------------------------------------------------\u001b[0m",
            "\u001b[0;31mNameError\u001b[0m                                 Traceback (most recent call last)",
            "\u001b[0;32m<ipython-input-43-a9c7647aa258>\u001b[0m in \u001b[0;36m<module>\u001b[0;34m()\u001b[0m\n\u001b[0;32m----> 1\u001b[0;31m \u001b[0mHeatmapAgg\u001b[0m\u001b[0;34m(\u001b[0m\u001b[0;36m35\u001b[0m\u001b[0;34m,\u001b[0m\u001b[0;36m36\u001b[0m\u001b[0;34m)\u001b[0m\u001b[0;34m\u001b[0m\u001b[0;34m\u001b[0m\u001b[0m\n\u001b[0m\u001b[1;32m      2\u001b[0m \u001b[0mHeatmap_noappliance\u001b[0m\u001b[0;34m(\u001b[0m\u001b[0;36m40\u001b[0m\u001b[0;34m,\u001b[0m\u001b[0;36m41\u001b[0m\u001b[0;34m)\u001b[0m\u001b[0;34m\u001b[0m\u001b[0;34m\u001b[0m\u001b[0m\n",
            "\u001b[0;31mNameError\u001b[0m: name 'HeatmapAgg' is not defined"
          ]
        }
      ]
    },
    {
      "cell_type": "code",
      "metadata": {
        "id": "n2MVHROgjUY2"
      },
      "source": [
        "# Reading files into dataframes\n",
        "table = pd.read_table(file_path,sep=\"\\s+\",names=['t','PR'])\n",
        "table_agg = pd.read_table(file_path_aggregate ,sep=\"\\s+\",names=['t','PR'])\n"
      ],
      "execution_count": null,
      "outputs": []
    },
    {
      "cell_type": "code",
      "metadata": {
        "id": "TwQkr2lwyCD2"
      },
      "source": [
        "# Transfering data into numpy arrays\n",
        "data = table.to_numpy()\n",
        "data_agg = table_agg.to_numpy()\n"
      ],
      "execution_count": null,
      "outputs": []
    },
    {
      "cell_type": "code",
      "metadata": {
        "id": "uKvQIXWcIxFZ"
      },
      "source": [
        ""
      ],
      "execution_count": null,
      "outputs": []
    },
    {
      "cell_type": "code",
      "metadata": {
        "id": "mtPj_rYCnX20"
      },
      "source": [
        "# Statistical data of the appliance and aggregated data sets\n",
        "max_appliance = max(data[:,1])\n",
        "min_appliance = min(data[:,1])\n",
        "range_appliance = max_appliance - min_appliance\n",
        "\n",
        "max_agg = max(data_agg[:,1])\n",
        "min_agg = min(data_agg[:,1])\n",
        "range_agg = max_appliance - min_appliance\n"
      ],
      "execution_count": null,
      "outputs": []
    },
    {
      "cell_type": "code",
      "metadata": {
        "colab": {
          "base_uri": "https://localhost:8080/"
        },
        "id": "N3vn628k9llJ",
        "outputId": "628d66b5-97fa-4474-98a8-a517eb7808ef"
      },
      "source": [
        "# Printing statistical values\n",
        "\n",
        "print(max_appliance)\n",
        "print(min_appliance)\n",
        "print(range_appliance)\n",
        "\n",
        "print(max_agg)\n",
        "print(min_agg)\n",
        "print(range_agg)"
      ],
      "execution_count": null,
      "outputs": [
        {
          "output_type": "stream",
          "text": [
            "1664\n",
            "0\n",
            "1664\n",
            "9644\n",
            "347\n",
            "1664\n"
          ],
          "name": "stdout"
        }
      ]
    },
    {
      "cell_type": "code",
      "metadata": {
        "colab": {
          "base_uri": "https://localhost:8080/"
        },
        "id": "6Zx_DNS6bOer",
        "outputId": "c9dc8afe-da08-4eea-b535-d0b2f5c43b81"
      },
      "source": [
        "print(np.mean(data_agg[:,1]))"
      ],
      "execution_count": null,
      "outputs": [
        {
          "output_type": "stream",
          "text": [
            "690.7531860057932\n"
          ],
          "name": "stdout"
        }
      ]
    },
    {
      "cell_type": "code",
      "metadata": {
        "colab": {
          "base_uri": "https://localhost:8080/"
        },
        "id": "Psb6KF11--_Z",
        "outputId": "45749e47-bdad-4a5d-ab74-d2e4863a0e8a"
      },
      "source": [
        "# Finding the average and maximum time gap between data readings\n",
        "gap = []\n",
        "for i in range(len(data_agg[:,0])-1):\n",
        "  a = data_agg[i+1,0]-data_agg[i,0]\n",
        "  gap.append(a)\n",
        "\n",
        "print(max(gap))\n",
        "print(np.mean(gap))"
      ],
      "execution_count": null,
      "outputs": [
        {
          "output_type": "stream",
          "text": [
            "402777\n",
            "6.716644546537349\n"
          ],
          "name": "stdout"
        }
      ]
    },
    {
      "cell_type": "code",
      "metadata": {
        "id": "9uuVLNddytPj"
      },
      "source": [
        "# Recalibrating data to start from 0\n",
        "data[:,0] = data[:,0] - data[0,0]\n",
        "data_agg[:,0] = data_agg[:,0] - data_agg[0,0]"
      ],
      "execution_count": null,
      "outputs": []
    },
    {
      "cell_type": "code",
      "metadata": {
        "id": "YazqKmCNwJ7T"
      },
      "source": [
        "# An attempt to smooth data\n",
        "\n",
        "z_score = stats.zscore(data[:,1])\n",
        "ind = z_score < 3\n",
        "data = data[ind]\n",
        "\n",
        "z_score_agg = stats.zscore(data_agg[:,1])\n",
        "ind_agg = z_score_agg < 2\n",
        "data_agg = data_agg[ind_agg]\n",
        "\n",
        "\n"
      ],
      "execution_count": null,
      "outputs": []
    },
    {
      "cell_type": "code",
      "metadata": {
        "colab": {
          "base_uri": "https://localhost:8080/",
          "height": 1000
        },
        "id": "Sg7zgMYxImCI",
        "outputId": "f16175a4-f882-4eb4-a703-428f115c2507"
      },
      "source": [
        "# 1st Heatmap attempt \n",
        "\n",
        "n = 1\n",
        "secs = 60 * 60 * 24 * n\n",
        "total_time = data[-1,0] - data[0,0]\n",
        "m =  total_time / secs\n",
        "m = int(m)\n",
        "\n",
        "\n",
        "for i in range(4):\n",
        "  idx = (data[:,0] >= i*secs) & (data[:,0] < (i+1)*secs)\n",
        "  idx_agg = (data_agg[:,0] >= i*secs) & (data_agg[:,0] < (i+1)*secs)\n",
        "  plt.figure()\n",
        "  plt.plot(data[idx,0],data[idx,1])\n",
        "  plt.plot(data_agg[idx_agg,0],data_agg[idx_agg,1])\n",
        "  plt.ylim([-10,1000])\n",
        "  plt.show()\n",
        "  "
      ],
      "execution_count": null,
      "outputs": [
        {
          "output_type": "display_data",
          "data": {
            "image/png": "[encoded data removed]",
            "text/plain": [
              "<Figure size 432x288 with 1 Axes>"
            ]
          },
          "metadata": {
            "tags": []
          }
        },
        {
          "output_type": "display_data",
          "data": {
            "image/png": "[encoded data removed]",
            "text/plain": [
              "<Figure size 432x288 with 1 Axes>"
            ]
          },
          "metadata": {
            "tags": []
          }
        },
        {
          "output_type": "display_data",
          "data": {
            "image/png": "[encoded data removed]",
            "text/plain": [
              "<Figure size 432x288 with 1 Axes>"
            ]
          },
          "metadata": {
            "tags": []
          }
        },
        {
          "output_type": "display_data",
          "data": {
            "image/png": "[encoded data removed]",
            "text/plain": [
              "<Figure size 432x288 with 1 Axes>"
            ]
          },
          "metadata": {
            "tags": []
          }
        }
      ]
    },
    {
      "cell_type": "code",
      "metadata": {
        "id": "wh5Q4_mdd3aZ"
      },
      "source": [
        "day = 60 * 60 * 24\n",
        "hour = 60 * 60\n",
        "minute = 60\n",
        "\n",
        "# Chosen time frame ########\n",
        "TimeFrame = 30 * day\n",
        "Window_Y = 60 * minute\n",
        "Window_X = 1 * day\n",
        "############################\n",
        "\n",
        "total_time = data[-1,0] - data[0,0]\n",
        "m =  total_time / TimeFrame\n",
        "m = int(m)"
      ],
      "execution_count": null,
      "outputs": []
    },
    {
      "cell_type": "code",
      "metadata": {
        "colab": {
          "base_uri": "https://localhost:8080/",
          "height": 265
        },
        "id": "K6-M91xl_f7-",
        "outputId": "338fe7f3-1998-4f12-e99a-c5605c9889c9"
      },
      "source": [
        "X_bins = int(TimeFrame / Window_X)\n",
        "Y_bins = int(Window_X / Window_Y)\n",
        "\n",
        "for k in range(1):\n",
        "  matrix = np.zeros((Y_bins,X_bins))\n",
        "  for i in range(X_bins):\n",
        "    for j in range(Y_bins):\n",
        "      idx = (data_agg[:,0] >= (k*TimeFrame)+(i*Window_X)+(j*Window_Y) & (data_agg[:,0] < (k*TimeFrame)+(i*Window_X)+((j*+1)*Window_Y)))\n",
        "      val = np.mean(data_agg[idx,1])\n",
        "      matrix[j,i] = val\n",
        "  plt.imshow(matrix, cmap='hot', interpolation='nearest')\n",
        "  plt.show()\n",
        "\n"
      ],
      "execution_count": null,
      "outputs": [
        {
          "output_type": "display_data",
          "data": {
            "image/png": "[encoded data removed]",
            "text/plain": [
              "<Figure size 432x288 with 1 Axes>"
            ]
          },
          "metadata": {
            "tags": []
          }
        }
      ]
    },
    {
      "cell_type": "code",
      "metadata": {
        "colab": {
          "base_uri": "https://localhost:8080/",
          "height": 356
        },
        "id": "ODFDjsE0LXHZ",
        "outputId": "1c802e01-8d0d-4936-95d1-2a4012a05737"
      },
      "source": [
        "window_start = 0\n",
        "window_stop = 1\n",
        "ind_agg = (data_agg[:,0] >= (window_start*86400)) & (data_agg[:,0] < (window_stop*86400)) \n",
        "#ind = (data[:,0] >= (window_start*86400)) & (data[:,0] < (window_stop*86400)) \n",
        "\n",
        "data_agg_test = data_agg[ind_agg]\n",
        "#data_test = data[ind]\n",
        "\n",
        "m = round(data_agg_test[-1,0]/86400)\n",
        "\n",
        "\n",
        "day_data = np.zeros(17280)\n",
        "\n",
        "for j in range(m):\n",
        "  day_data = np.zeros(17280)\n",
        "  print('yes')\n",
        "  \n",
        "  for i in range(17280):\n",
        "    id = (data_agg_test[:,0] >= (j*86400)+(i*5)) & (data_agg_test[:,0] < (j*86400)+((i+1)*5))\n",
        "    day_data[i] = np.mean(data_agg_test[id,1])\n",
        "\n",
        "  heatmap = np.transpose(day_data.reshape(24,720))\n",
        "  plt.figure\n",
        "  sns.heatmap(heatmap,cmap = 'RdYlGn')\n",
        "  plt.show()\n",
        "\n"
      ],
      "execution_count": null,
      "outputs": [
        {
          "output_type": "stream",
          "text": [
            "yes\n"
          ],
          "name": "stdout"
        },
        {
          "output_type": "stream",
          "text": [
            "/usr/local/lib/python3.7/dist-packages/numpy/core/fromnumeric.py:3373: RuntimeWarning: Mean of empty slice.\n",
            "  out=out, **kwargs)\n",
            "/usr/local/lib/python3.7/dist-packages/numpy/core/_methods.py:170: RuntimeWarning: invalid value encountered in double_scalars\n",
            "  ret = ret.dtype.type(ret / rcount)\n"
          ],
          "name": "stderr"
        },
        {
          "output_type": "display_data",
          "data": {
            "image/png": "[encoded data removed]",
            "text/plain": [
              "<Figure size 432x288 with 2 Axes>"
            ]
          },
          "metadata": {
            "tags": []
          }
        }
      ]
    },
    {
      "cell_type": "code",
      "metadata": {
        "id": "3U7kppdOjvTX"
      },
      "source": [
        "window_start = 0\n",
        "window_stop = 1\n",
        "ind_agg = (data_agg[:,0] >= (window_start*86400)) & (data_agg[:,0] < (window_stop*86400)) \n",
        "ind = (data[:,0] >= (window_start*86400)) & (data[:,0] < (window_stop*86400)) \n",
        "\n",
        "data_agg_test = data_agg[ind_agg]\n",
        "data_test = data[ind]\n",
        "\n",
        "m = round(data_agg_test[-1,0]/86400)\n",
        "\n",
        "\n",
        "day_data = np.zeros(17280)\n",
        "\n",
        "for j in range(m):\n",
        "  day_data = np.zeros(17280)\n",
        "  print('yes')\n",
        "  \n",
        "  for i in range(17280):\n",
        "    idx_agg = (data_agg_test[:,0] >= (j*86400)+(i*5)) & (data_agg_test[:,0] < (j*86400)+((i+1)*5))\n",
        "    idx = (data_test[:,0] >= (j*86400)+(i*5)) & (data_test[:,0] < (j*86400)+((i+1)*5))\n",
        "\n",
        "    day_data[i] = np.mean(data_agg_test[idx_agg,1]) - np.mean(data_test[idx,1])\n",
        "\n",
        "  heatmap = np.transpose(day_data.reshape(24,720))\n",
        "  plt.figure\n",
        "  sns.heatmap(heatmap,cmap = 'RdYlGn')\n",
        "  plt.show()\n",
        "\n"
      ],
      "execution_count": null,
      "outputs": []
    },
    {
      "cell_type": "code",
      "metadata": {
        "id": "IePy-tUYbAoX"
      },
      "source": [
        "# day_data.shape\n",
        "heatmap = np.transpose(day_data.reshape(24,720))\n",
        "day_data\n",
        "heatmap.shape\n",
        "print(day_data[0:10])\n",
        "print(heatmap[0:10,0])"
      ],
      "execution_count": null,
      "outputs": []
    },
    {
      "cell_type": "code",
      "metadata": {
        "id": "HPEFxVdKd626"
      },
      "source": [
        "plt.figure\n",
        "sns.heatmap(heatmap,cmap = 'RdYlGn')\n",
        "plt.show()"
      ],
      "execution_count": null,
      "outputs": []
    }
  ]
}